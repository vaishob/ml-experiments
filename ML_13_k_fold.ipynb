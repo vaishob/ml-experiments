{
 "cells": [
  {
   "cell_type": "markdown",
   "id": "ec279851",
   "metadata": {},
   "source": [
    "## Machine Learning Tutorial 13: KFold Cross Validation\n",
    "\n",
    "Many times we get in a dilemma of which machine learning model should we use for a given problem. KFold cross validation allows us to evaluate performance of a model by creating K folds of given dataset. This is better then traditional `train_test_split`. In this tutorial, we will cover basics of cross validation and kfold. We will also look into `cross_val_score` function of sklearn library which provides convenient way to run cross validation on a model.\n",
    "\n",
    "#### Topics covered:\n",
    "* Cross Validation\n",
    "* Training Method 1 - Use all available data for training and test on same dataset\n",
    "* Training Method 2 - Split available dataset into training and test sets\n",
    "* Training Method 3 - K Fold Cross Validation\n",
    "* Use handwritten digits dataset for KFold cross validation\n",
    "* `sklearn.model_selection.KFold`\n",
    "* `KFold.split` method\n",
    "* StratifiedKFold\n",
    "* `cross_val_score`"
   ]
  },
  {
   "cell_type": "markdown",
   "id": "d21bd6d2",
   "metadata": {},
   "source": [
    "### K Fold Cross Validation\n",
    "\n",
    "**Digits dataset from sklearn**"
   ]
  },
  {
   "cell_type": "markdown",
   "id": "07f61d7d",
   "metadata": {},
   "source": [
    "<img src=\"KFoldCrossVal.png\" alt=\"Classify Using Lines\" width=\"500\"/>"
   ]
  },
  {
   "cell_type": "code",
   "execution_count": 4,
   "id": "0e8910e5",
   "metadata": {},
   "outputs": [],
   "source": [
    "from sklearn.linear_model import LogisticRegression\n",
    "from sklearn.svm import SVC\n",
    "from sklearn.ensemble import RandomForestClassifier\n",
    "import numpy as np\n",
    "from sklearn.datasets import load_digits\n",
    "import matplotlib.pyplot as plt\n",
    "from sklearn.model_selection import train_test_split\n",
    "from sklearn.model_selection import KFold\n",
    "from sklearn.model_selection import StratifiedKFold\n",
    "from sklearn.model_selection import cross_val_score"
   ]
  },
  {
   "cell_type": "code",
   "execution_count": 5,
   "id": "1a37d55b",
   "metadata": {},
   "outputs": [],
   "source": [
    "digits = load_digits()"
   ]
  },
  {
   "cell_type": "code",
   "execution_count": 6,
   "id": "0e817da0",
   "metadata": {
    "scrolled": true
   },
   "outputs": [],
   "source": [
    "X_train, X_test, y_train, y_test = train_test_split(digits.data, digits.target, test_size=0.3)"
   ]
  },
  {
   "cell_type": "markdown",
   "id": "829de11f",
   "metadata": {},
   "source": [
    "**Logistic Regression**"
   ]
  },
  {
   "cell_type": "code",
   "execution_count": 7,
   "id": "6a68f38e",
   "metadata": {},
   "outputs": [
    {
     "data": {
      "text/plain": [
       "0.9574074074074074"
      ]
     },
     "execution_count": 7,
     "metadata": {},
     "output_type": "execute_result"
    }
   ],
   "source": [
    "lr = LogisticRegression(solver='liblinear', multi_class='ovr')\n",
    "lr.fit(X_train, y_train)\n",
    "lr.score(X_test, y_test)"
   ]
  },
  {
   "cell_type": "markdown",
   "id": "7e443495",
   "metadata": {},
   "source": [
    "**SVM**"
   ]
  },
  {
   "cell_type": "code",
   "execution_count": 8,
   "id": "06645be7",
   "metadata": {},
   "outputs": [
    {
     "data": {
      "text/plain": [
       "0.48703703703703705"
      ]
     },
     "execution_count": 8,
     "metadata": {},
     "output_type": "execute_result"
    }
   ],
   "source": [
    "svm = SVC(gamma='auto')\n",
    "svm.fit(X_train, y_train)\n",
    "svm.score(X_test, y_test)"
   ]
  },
  {
   "cell_type": "markdown",
   "id": "157b8390",
   "metadata": {},
   "source": [
    "**Random Forest**"
   ]
  },
  {
   "cell_type": "code",
   "execution_count": 9,
   "id": "33af6041",
   "metadata": {},
   "outputs": [
    {
     "data": {
      "text/plain": [
       "0.9722222222222222"
      ]
     },
     "execution_count": 9,
     "metadata": {},
     "output_type": "execute_result"
    }
   ],
   "source": [
    "rf = RandomForestClassifier(n_estimators=40)\n",
    "rf.fit(X_train, y_train)\n",
    "rf.score(X_test, y_test)"
   ]
  },
  {
   "cell_type": "markdown",
   "id": "47f3ca30",
   "metadata": {},
   "source": [
    "### KFold Cross Validation"
   ]
  },
  {
   "cell_type": "markdown",
   "id": "346f2c76",
   "metadata": {},
   "source": [
    "**Basic example**"
   ]
  },
  {
   "cell_type": "code",
   "execution_count": 10,
   "id": "a49c2876",
   "metadata": {
    "scrolled": true
   },
   "outputs": [
    {
     "data": {
      "text/plain": [
       "KFold(n_splits=3, random_state=None, shuffle=False)"
      ]
     },
     "execution_count": 10,
     "metadata": {},
     "output_type": "execute_result"
    }
   ],
   "source": [
    "kf = KFold(n_splits=3)\n",
    "kf"
   ]
  },
  {
   "cell_type": "code",
   "execution_count": 11,
   "id": "9c0bb551",
   "metadata": {},
   "outputs": [
    {
     "name": "stdout",
     "output_type": "stream",
     "text": [
      "[3 4 5 6 7 8] [0 1 2]\n",
      "[0 1 2 6 7 8] [3 4 5]\n",
      "[0 1 2 3 4 5] [6 7 8]\n"
     ]
    }
   ],
   "source": [
    "for train_index, test_index in kf.split([1,2,3,4,5,6,7,8,9]):\n",
    "    print(train_index, test_index)"
   ]
  },
  {
   "cell_type": "markdown",
   "id": "ef8424c2",
   "metadata": {},
   "source": [
    "**Use KFold for our digits example**"
   ]
  },
  {
   "cell_type": "code",
   "execution_count": 12,
   "id": "e9618653",
   "metadata": {
    "scrolled": true
   },
   "outputs": [],
   "source": [
    "def get_score(model, X_train, X_test, y_train, y_test):\n",
    "    model.fit(X_train, y_train)\n",
    "    return model.score(X_test, y_test)"
   ]
  },
  {
   "cell_type": "code",
   "execution_count": 14,
   "id": "9773816d",
   "metadata": {},
   "outputs": [],
   "source": [
    "folds = StratifiedKFold(n_splits=3)\n",
    "\n",
    "scores_logistic = []\n",
    "scores_svm = []\n",
    "scores_rf = []\n",
    "\n",
    "for train_index, test_index in folds.split(digits.data, digits.target):\n",
    "    X_train, X_test, y_train, y_test = digits.data[train_index], digits.data[test_index], digits.target[train_index], digits.target[test_index]\n",
    "    scores_logistic.append(get_score(LogisticRegression(solver='liblinear', multi_class='ovr'), X_train, X_test, y_train, y_test))\n",
    "    scores_svm.append(get_score(SVC(gamma='auto'), X_train, X_test, y_train, y_test))\n",
    "    scores_rf.append(get_score(RandomForestClassifier(n_estimators=40), X_train, X_test, y_train, y_test))"
   ]
  },
  {
   "cell_type": "code",
   "execution_count": 15,
   "id": "890a26f8",
   "metadata": {
    "scrolled": true
   },
   "outputs": [
    {
     "data": {
      "text/plain": [
       "[0.8948247078464107, 0.9532554257095158, 0.9098497495826378]"
      ]
     },
     "execution_count": 15,
     "metadata": {},
     "output_type": "execute_result"
    }
   ],
   "source": [
    "scores_logistic"
   ]
  },
  {
   "cell_type": "code",
   "execution_count": 16,
   "id": "244b8697",
   "metadata": {
    "scrolled": true
   },
   "outputs": [
    {
     "data": {
      "text/plain": [
       "[0.3806343906510851, 0.41068447412353926, 0.5125208681135225]"
      ]
     },
     "execution_count": 16,
     "metadata": {},
     "output_type": "execute_result"
    }
   ],
   "source": [
    "scores_svm"
   ]
  },
  {
   "cell_type": "code",
   "execution_count": 17,
   "id": "c0e14bf7",
   "metadata": {
    "scrolled": true
   },
   "outputs": [
    {
     "data": {
      "text/plain": [
       "[0.9165275459098498, 0.9465776293823038, 0.9198664440734557]"
      ]
     },
     "execution_count": 17,
     "metadata": {},
     "output_type": "execute_result"
    }
   ],
   "source": [
    "scores_rf"
   ]
  },
  {
   "cell_type": "markdown",
   "id": "cc81eca6",
   "metadata": {},
   "source": [
    "### `cross_val_score` function"
   ]
  },
  {
   "cell_type": "markdown",
   "id": "9c4f0129",
   "metadata": {},
   "source": [
    "**Logistic Regression model performance using `cross_val_score`**"
   ]
  },
  {
   "cell_type": "code",
   "execution_count": 18,
   "id": "3a3b578c",
   "metadata": {
    "scrolled": true
   },
   "outputs": [
    {
     "data": {
      "text/plain": [
       "array([0.89482471, 0.95325543, 0.90984975])"
      ]
     },
     "execution_count": 18,
     "metadata": {},
     "output_type": "execute_result"
    }
   ],
   "source": [
    "cross_val_score(LogisticRegression(solver='liblinear', multi_class='ovr'), digits.data, digits.target, cv=3)"
   ]
  },
  {
   "cell_type": "markdown",
   "id": "e83c5c5b",
   "metadata": {},
   "source": [
    "**SVM model performance using `cross_val_score`**"
   ]
  },
  {
   "cell_type": "code",
   "execution_count": 19,
   "id": "84590be4",
   "metadata": {
    "scrolled": true
   },
   "outputs": [
    {
     "data": {
      "text/plain": [
       "array([0.38063439, 0.41068447, 0.51252087])"
      ]
     },
     "execution_count": 19,
     "metadata": {},
     "output_type": "execute_result"
    }
   ],
   "source": [
    "cross_val_score(SVC(gamma='auto'), digits.data, digits.target, cv=3)"
   ]
  },
  {
   "cell_type": "markdown",
   "id": "6dd711c4",
   "metadata": {},
   "source": [
    "**Random Forest model performance using `cross_val_score`**"
   ]
  },
  {
   "cell_type": "code",
   "execution_count": 20,
   "id": "aa65c807",
   "metadata": {
    "scrolled": true
   },
   "outputs": [
    {
     "data": {
      "text/plain": [
       "array([0.92153589, 0.93989983, 0.92654424])"
      ]
     },
     "execution_count": 20,
     "metadata": {},
     "output_type": "execute_result"
    }
   ],
   "source": [
    "cross_val_score(RandomForestClassifier(n_estimators=40), digits.data, digits.target, cv=3)"
   ]
  },
  {
   "cell_type": "markdown",
   "id": "92f7e7d9",
   "metadata": {},
   "source": [
    "**`cross_val_score` uses Stratified KFold by default**"
   ]
  },
  {
   "cell_type": "markdown",
   "id": "c38dec5a",
   "metadata": {},
   "source": [
    "### Parameter tuning using K Fold Cross Validation"
   ]
  },
  {
   "cell_type": "code",
   "execution_count": 21,
   "id": "39b682f9",
   "metadata": {},
   "outputs": [
    {
     "data": {
      "text/plain": [
       "0.8681378026070764"
      ]
     },
     "execution_count": 21,
     "metadata": {},
     "output_type": "execute_result"
    }
   ],
   "source": [
    "scores1 = cross_val_score(RandomForestClassifier(n_estimators=5), digits.data, digits.target, cv=10)\n",
    "np.average(scores1)"
   ]
  },
  {
   "cell_type": "code",
   "execution_count": 22,
   "id": "91155419",
   "metadata": {
    "scrolled": true
   },
   "outputs": [
    {
     "data": {
      "text/plain": [
       "0.9387895716945996"
      ]
     },
     "execution_count": 22,
     "metadata": {},
     "output_type": "execute_result"
    }
   ],
   "source": [
    "scores2 = cross_val_score(RandomForestClassifier(n_estimators=20), digits.data, digits.target, cv=10)\n",
    "np.average(scores2)"
   ]
  },
  {
   "cell_type": "code",
   "execution_count": 23,
   "id": "452a35d4",
   "metadata": {},
   "outputs": [
    {
     "data": {
      "text/plain": [
       "0.9404500310366231"
      ]
     },
     "execution_count": 23,
     "metadata": {},
     "output_type": "execute_result"
    }
   ],
   "source": [
    "scores3 = cross_val_score(RandomForestClassifier(n_estimators=30), digits.data, digits.target, cv=10)\n",
    "np.average(scores3)"
   ]
  },
  {
   "cell_type": "code",
   "execution_count": 24,
   "id": "599dcd96",
   "metadata": {},
   "outputs": [
    {
     "data": {
      "text/plain": [
       "0.9427001862197392"
      ]
     },
     "execution_count": 24,
     "metadata": {},
     "output_type": "execute_result"
    }
   ],
   "source": [
    "scores4 = cross_val_score(RandomForestClassifier(n_estimators=40), digits.data, digits.target, cv=10)\n",
    "np.average(scores4)"
   ]
  },
  {
   "cell_type": "markdown",
   "id": "d45e62cb",
   "metadata": {},
   "source": [
    "Here we used `cross_val_score` to fine tune our random forest classifier and figured that having around 40 trees in random forest gives best result."
   ]
  },
  {
   "cell_type": "markdown",
   "id": "061cc034",
   "metadata": {},
   "source": [
    "## Exercise\n",
    "\n",
    "Use iris flower dataset from `sklearn` library and use `cross_val_score` against following models to measure the performance of each. In the end figure out the model with best performance:\n",
    "\n",
    "1) Logisitic Regression\n",
    "2) SVM\n",
    "3) Decision Tree\n",
    "4) Random Forest"
   ]
  },
  {
   "cell_type": "code",
   "execution_count": 25,
   "id": "3c633ad5",
   "metadata": {},
   "outputs": [],
   "source": [
    "from sklearn import datasets\n",
    "from sklearn.model_selection import cross_val_score\n",
    "from sklearn.linear_model import LogisticRegression\n",
    "from sklearn.svm import SVC\n",
    "from sklearn.tree import DecisionTreeClassifier\n",
    "from sklearn.ensemble import RandomForestClassifier"
   ]
  },
  {
   "cell_type": "code",
   "execution_count": 26,
   "id": "6fcc9fc2",
   "metadata": {},
   "outputs": [],
   "source": [
    "# Load  the iris dataset\n",
    "iris = datasets.load_iris()\n",
    "X = iris.data\n",
    "y = iris.target"
   ]
  },
  {
   "cell_type": "code",
   "execution_count": 27,
   "id": "36baecc1",
   "metadata": {},
   "outputs": [],
   "source": [
    "# Initialize models\n",
    "logistic_regression = LogisticRegression(max_iter=200)\n",
    "svm = SVC()\n",
    "decision_tree = DecisionTreeClassifier()\n",
    "random_forest = RandomForestClassifier()"
   ]
  },
  {
   "cell_type": "code",
   "execution_count": 29,
   "id": "eb504d0f",
   "metadata": {},
   "outputs": [],
   "source": [
    "# Evaluate models using cross-validation\n",
    "logistic_regression_scores = cross_val_score(logistic_regression, X, y, cv=5)\n",
    "svm_scores = cross_val_score(svm, X, y, cv=5)\n",
    "decision_tree_scores = cross_val_score(decision_tree, X, y, cv=5)\n",
    "random_forest_scores = cross_val_score(random_forest, X, y, cv=5)"
   ]
  },
  {
   "cell_type": "code",
   "execution_count": 30,
   "id": "00d655ac",
   "metadata": {},
   "outputs": [],
   "source": [
    "# Calculate the mean scores\n",
    "logistic_regression_mean = logistic_regression_scores.mean()\n",
    "svm_mean = svm_scores.mean()\n",
    "decision_tree_mean = decision_tree_scores.mean()\n",
    "random_forest_mean = random_forest_scores.mean()"
   ]
  },
  {
   "cell_type": "code",
   "execution_count": 31,
   "id": "2c382271",
   "metadata": {},
   "outputs": [
    {
     "data": {
      "text/plain": [
       "(0.9733333333333334, 0.9666666666666666, 0.9666666666666668, 0.96)"
      ]
     },
     "execution_count": 31,
     "metadata": {},
     "output_type": "execute_result"
    }
   ],
   "source": [
    "(logistic_regression_mean, svm_mean, decision_tree_mean, random_forest_mean)"
   ]
  }
 ],
 "metadata": {
  "kernelspec": {
   "display_name": "Python 3 (ipykernel)",
   "language": "python",
   "name": "python3"
  },
  "language_info": {
   "codemirror_mode": {
    "name": "ipython",
    "version": 3
   },
   "file_extension": ".py",
   "mimetype": "text/x-python",
   "name": "python",
   "nbconvert_exporter": "python",
   "pygments_lexer": "ipython3",
   "version": "3.11.7"
  }
 },
 "nbformat": 4,
 "nbformat_minor": 5
}
