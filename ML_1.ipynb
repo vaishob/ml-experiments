{
 "cells": [
  {
   "cell_type": "markdown",
   "id": "39207141",
   "metadata": {},
   "source": [
    "## Machine Learning Introduction: What is ML?\n",
    "\n",
    "What is the definition of Machine Learning? This notebook describes what machine learning is all about, as well as deep learning and applications of both in real life. In the following notebooks we will focus on problem solving using machine learning in Python.\n",
    "\n",
    "### Topics covered:\n",
    "* Introduction\n",
    "* What is Machine Learning?\n",
    "* What is Deep Learning?\n",
    "* Machine Learning Applications in real life"
   ]
  },
  {
   "cell_type": "markdown",
   "id": "16a56615",
   "metadata": {},
   "source": [
    "There are certain tasks where machines are better than humans:\n",
    "\n",
    "### Example: Multiplying two large numbers\n",
    "* **Humans** - Difficult and takes time\n",
    "* **Machines** - Can be computed almost instantly.\n",
    "\n",
    "### Example: Searching through millions of records\n",
    "* **Humans** - Difficult and takes time\n",
    "* **Machines** - Can be computed in nanoseconds.\n",
    "\n",
    "While machines excel at many tasks, there are still areas where humans outperform them:\n",
    "\n",
    "### Example: Driving a car\n",
    "* **Machines** - Fully autonomous vehicles are still under development\n",
    "* **Humans** - Human intuition and decision-making are more natural in this context.\n",
    "\n",
    "### Example: Engaging in natural language conversation\n",
    "* Humans are still superior to machines in understanding and engaging in complex conversations.\n",
    "\n",
    "This is where machine learning comes in."
   ]
  },
  {
   "cell_type": "markdown",
   "id": "3a1edf50",
   "metadata": {},
   "source": [
    "### What is Machine Learning?\n",
    "\n",
    "Machine Learning is a set of techniques to make computers better at doing things that humans (traditionally) can do better than machines.\n",
    "\n",
    "Through Machine Learning, computers can learn from data and improve their performance over time without being explicitly programmed for specific tasks."
   ]
  },
  {
   "cell_type": "markdown",
   "id": "623a2b08",
   "metadata": {},
   "source": [
    "### Machine learning involves making machines learn things like humans do\n",
    "\n",
    "But, how exactly are humans able to learn things in the first place? "
   ]
  },
  {
   "cell_type": "markdown",
   "id": "9c7f51d9",
   "metadata": {},
   "source": [
    "### What does the process of learning look like?\n",
    "\n",
    "The human brain consists of billions of tiny **neurons** connected together with **synapses**. Whenever we think and/or make a decision, a signal is generated and these neurons light up.\n",
    "\n",
    "For example, when teaching a baby to identify a cow, you would show the baby a cow and tell it that this is a cow:\n",
    "\n",
    "<img src=\"img/cow.png\" alt=\"Cow\" width=\"200\"/>\n",
    "\n",
    "Internally, within the baby's brain, a specific set of neurons will light up, resulting in the lighting up of the output neuron corresponding to the entity **cow**  \n",
    "\n",
    "<img src=\"img/cow-neurons.png\" alt=\"Cow\" width=\"400\"/>\n",
    "\n",
    "The next time, you would show the baby another instance of a cow as shown:\n",
    "\n",
    "<img src=\"img/cow-2.png\" alt=\"Cow\" width=\"200\"/>\n",
    "\n",
    "Again, the same set of neurons and some additional neurons light up and these pathways become stronger:\n",
    "\n",
    "<img src=\"img/cow-2-neurons.png\" alt=\"Cow\" width=\"400\"/>\n",
    "\n",
    "The same process is used when the baby is shown an instance of a car and told that this is a car:\n",
    "\n",
    "<img src=\"img/car.png\" alt=\"Car\" width=\"200\"/>\n",
    "\n",
    "Another set of neurons will light up and the edges will become stronger (I think the pattern is clear by now)\n",
    "\n",
    "<img src=\"img/car-neurons.png\" alt=\"Car\" width=\"400\"/>\n",
    "\n",
    "### How do humans learn?\n",
    "\n",
    "As we make mistakes, someone corrects them and we learn. When we say 'learn' what actually happens internally is that the edges and neurons are constantly being adjusted within our brain, thus forming new pathways towards the intended output or decision.\n",
    "\n",
    "\n",
    "### Can this be replicated in machines?\n",
    "\n",
    "In **neural network models**, these edges and neurons are adjusted in a similar way (training) using a lot of data (training data) and corresponding outputs (ie data is **labelled**).\n",
    "\n",
    "After training of the neural network, whenever a new input is passed to machine, it can tell you the correct output.\n",
    "\n",
    "This is called **deep learning**, it is one of the techniques residing under the umbrella term of **machine learning**."
   ]
  },
  {
   "cell_type": "markdown",
   "id": "611b0397",
   "metadata": {},
   "source": [
    "### Machine Learning is a set of techniques used to extract knowledge from available data and use that knowledge to make decisions\n",
    "\n",
    "<img src=\"img/machine-learning.png\" alt=\"machine learning\" width=\"400\"/>"
   ]
  },
  {
   "cell_type": "markdown",
   "id": "c260533a",
   "metadata": {},
   "source": [
    "### Machine Learning in real life"
   ]
  },
  {
   "cell_type": "markdown",
   "id": "09754e8e",
   "metadata": {},
   "source": [
    "* **Email Spam filter**\n",
    "\n",
    "\n",
    "<img src=\"img/spam-filter.png\" alt=\"spam filter\" width=\"400\"/>\n",
    "\n",
    "* **Natural Language systems like Amazon Alexa, Google Home**\n",
    "\n",
    "\n",
    "<img src=\"img/alexa.png\" alt=\"alexa\" width=\"400\"/>\n",
    "\n",
    "* **Recommender Systems**\n",
    "\n",
    "\n",
    "<img src=\"img/recommenders.png\" alt=\"recommender\" width=\"400\"/>\n",
    "\n",
    "* **Driverless Cars**\n",
    "\n",
    "<img src=\"img/driverless.png\" alt=\"driverless\" width=\"400\"/>"
   ]
  },
  {
   "cell_type": "code",
   "execution_count": null,
   "id": "40bb49ec",
   "metadata": {},
   "outputs": [],
   "source": []
  }
 ],
 "metadata": {
  "kernelspec": {
   "display_name": "Python 3 (ipykernel)",
   "language": "python",
   "name": "python3"
  },
  "language_info": {
   "codemirror_mode": {
    "name": "ipython",
    "version": 3
   },
   "file_extension": ".py",
   "mimetype": "text/x-python",
   "name": "python",
   "nbconvert_exporter": "python",
   "pygments_lexer": "ipython3",
   "version": "3.11.7"
  }
 },
 "nbformat": 4,
 "nbformat_minor": 5
}
